{
 "cells": [
  {
   "cell_type": "markdown",
   "metadata": {},
   "source": [
    "## *Lennard-Jones Equation*\n",
    "---"
   ]
  },
  {
   "cell_type": "markdown",
   "metadata": {},
   "source": [
    "**Author:** 2023WS_61714\n",
    "<br />\n",
    "<br />\n",
    "\n",
    "**Date:** October 26, 2023\n",
    "\n",
    "<br />\n",
    "\n",
    "---"
   ]
  },
  {
   "cell_type": "markdown",
   "metadata": {},
   "source": [
    "**Goal:** Enhace the initial Lennard-Jones equation solution, apply it to various scenarios, develop functions, explore built-in functions and practice sigfigs.\n",
    "<br />\n",
    "<br />"
   ]
  },
  {
   "cell_type": "markdown",
   "metadata": {},
   "source": [
    "<div style=\"text-align: center\">\n",
    "\n",
    "## Equation:\n",
    "\n",
    "</div>"
   ]
  },
  {
   "cell_type": "markdown",
   "metadata": {},
   "source": [
    "<div style=\"text-align: center\">\n",
    "\n",
    "### $V_{LJ}(r) = 4\\varepsilon \\ \\left[\\left(\\frac {\\sigma} {r}\\right)^{12} -\\left(\\frac {\\sigma} {r}\\right)^{6} \\right]$\n",
    "\n",
    "</div>\n",
    "\n",
    "---"
   ]
  },
  {
   "cell_type": "markdown",
   "metadata": {},
   "source": [
    "**Task 1:** To calculate the non-bonded potential energy between two atoms, we use the Lennard-Jones equation, which is represented by the following Python function:"
   ]
  },
  {
   "cell_type": "code",
   "execution_count": 3,
   "metadata": {},
   "outputs": [],
   "source": [
    "def lennard_jones_eq(r:float, epsilon:float, sigma:float) -> float:\n",
    "    return 4 * epsilon * (((sigma / r) ** 12) - ((sigma / r) ** 6))"
   ]
  },
  {
   "cell_type": "markdown",
   "metadata": {},
   "source": [
    "In this task, we've already set specific values for atoms, with $\\epsilon$ = 0.0103 eV (electronvolts) and $\\sigma$ = 3.40 Å (Angstroms), which are the values for Argon atoms."
   ]
  },
  {
   "cell_type": "code",
   "execution_count": 4,
   "metadata": {},
   "outputs": [],
   "source": [
    "epsilon = 0.0103\n",
    "sigma = 3.40\n"
   ]
  },
  {
   "cell_type": "markdown",
   "metadata": {},
   "source": [
    "The assigned distances are 3.0, 3.4, 3.8, 4.2, 4.6, and 5.0 Angstrom. In all cases, 'r' has 2 significant figures, 'ε' and 'σ' have 3 significant figures, while the numbers 4, 6, and 12 have infinite significant figures. Therefore, we have 2 significant figures in all six cases. "
   ]
  }
 ],
 "metadata": {
  "kernelspec": {
   "display_name": "Python 3 (ipykernel)",
   "language": "python",
   "name": "python3"
  },
  "language_info": {
   "codemirror_mode": {
    "name": "ipython",
    "version": 3
   },
   "file_extension": ".py",
   "mimetype": "text/x-python",
   "name": "python",
   "nbconvert_exporter": "python",
   "pygments_lexer": "ipython3",
   "version": "3.11.5"
  }
 },
 "nbformat": 4,
 "nbformat_minor": 4
}
