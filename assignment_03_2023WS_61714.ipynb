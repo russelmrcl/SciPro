{
 "cells": [
  {
   "cell_type": "markdown",
   "metadata": {},
   "source": [
    "## *Lennard-Jones Equation*\n",
    "---"
   ]
  },
  {
   "cell_type": "markdown",
   "metadata": {},
   "source": [
    "**Author:** 2023WS_61714\n",
    "\n",
    "**Date:** October 26, 2023\n",
    "\n",
    "---"
   ]
  },
  {
   "cell_type": "markdown",
   "metadata": {},
   "source": [
    "**Goal:** Enhace the initial Lennard-Jones equation solution, apply it to various scenarios, develop functions, explore built-in functions and practice significant figures."
   ]
  },
  {
   "cell_type": "markdown",
   "metadata": {},
   "source": [
    "<div style=\"text-align: center\">\n",
    "\n",
    "<h2> Equation: </h2>\n",
    "\n",
    "</div>"
   ]
  },
  {
   "cell_type": "markdown",
   "metadata": {},
   "source": [
    "<div style=\"text-align: center\">\n",
    "\n",
    "### $V_{LJ}(r) = 4\\varepsilon \\ \\left[\\left(\\frac {\\sigma} {r}\\right)^{12} -\\left(\\frac {\\sigma} {r}\\right)^{6} \\right]$\n",
    "\n",
    "</div>\n",
    "\n",
    "---"
   ]
  },
  {
   "cell_type": "markdown",
   "metadata": {},
   "source": [
    "<h3> Task 1: </h3>\n",
    "\n",
    "To calculate the non-bonded potential energy between two atoms, we use the Lennard-Jones equation and convert it to International Unit for Energy (Joule), which is represented by the following Python function:"
   ]
  },
  {
   "cell_type": "code",
   "execution_count": 692,
   "metadata": {},
   "outputs": [],
   "source": [
    "def lennard_jones_equ(r:float, epsilon:float, sigma:float):\n",
    "    return (4 * epsilon * (((sigma / r) ** 12) - ((sigma / r) ** 6))) * 1.602176565E-19"
   ]
  },
  {
   "cell_type": "markdown",
   "metadata": {},
   "source": [
    "In this task, we've already set specific values for atoms, with $\\epsilon$ = 0.0103 eV (electronvolts) and $\\sigma$ = 3.40 Å (Angstroms), which are the values for Argon atoms."
   ]
  },
  {
   "cell_type": "code",
   "execution_count": 693,
   "metadata": {},
   "outputs": [],
   "source": [
    "epsilon = 0.0103\n",
    "sigma = 3.40\n"
   ]
  },
  {
   "cell_type": "markdown",
   "metadata": {},
   "source": [
    "In all six cases, the specified distances, according to the assignment: `3.0`, `3.4`, `3.8`, `4.2`, `4.6`, and `5.0` Angstroms. When using the Lennard-Jones Equation, `r` has <br /> **2** significant figures, `ϵ` and `σ` have **3** significant figures. In addition, the numbers `4`, `6`, and `12` have an **infinite number of significant figures**. In each of these cases,<br /> the number of significant figures is two, determined by the lowest amount of significant figures of participating numbers"
   ]
  },
  {
   "cell_type": "markdown",
   "metadata": {},
   "source": [
    "**1. Case:** r = 3.0"
   ]
  },
  {
   "cell_type": "code",
   "execution_count": 694,
   "metadata": {},
   "outputs": [
    {
     "data": {
      "text/plain": [
       "'1.6e-20'"
      ]
     },
     "execution_count": 694,
     "metadata": {},
     "output_type": "execute_result"
    }
   ],
   "source": [
    "case_one = lennard_jones_eq(3.0, epsilon, sigma)\n",
    "case_one"
   ]
  },
  {
   "cell_type": "markdown",
   "metadata": {},
   "source": [
    "Given the specified number of significant figures (2), we can create a Python function that utilized the built-in string formatting function to properly format the result in decimal notation."
   ]
  },
  {
   "cell_type": "code",
   "execution_count": 695,
   "metadata": {},
   "outputs": [],
   "source": [
    "def lennard_jones_eq(r:float, epsilon:float, sigma:float):\n",
    "    result = (4 * epsilon * (((sigma / r) ** 12) - ((sigma / r) ** 6))) * 1.602176565E-19\n",
    "    return f\"{result:.2g}\""
   ]
  },
  {
   "cell_type": "code",
   "execution_count": 696,
   "metadata": {},
   "outputs": [
    {
     "data": {
      "text/plain": [
       "'1.6e-20'"
      ]
     },
     "execution_count": 696,
     "metadata": {},
     "output_type": "execute_result"
    }
   ],
   "source": [
    "case_one = lennard_jones_eq(3.0, epsilon, sigma)\n",
    "case_one"
   ]
  },
  {
   "cell_type": "markdown",
   "metadata": {},
   "source": [
    "**All Cases:**\n",
    "<br />\n",
    "We now apply the new function to all cases."
   ]
  },
  {
   "cell_type": "code",
   "execution_count": 697,
   "metadata": {},
   "outputs": [
    {
     "name": "stdout",
     "output_type": "stream",
     "text": [
      "In case one: the potential energy for the Argon atoms is 1.6e-20\n",
      "In case two: the potential energy for the Argon atoms is 0\n",
      "In case three: the potential energy for the Argon atoms is -1.6e-21\n",
      "In case four: the potential energy for the Argon atoms is -1.3e-21\n",
      "In case five: the potential energy for the Argon atoms is -9e-22\n",
      "In case six: the potential energy for the Argon atoms is -5.9e-22\n"
     ]
    }
   ],
   "source": [
    "print(\"In case one: the potential energy for the Argon atoms is \" + case_one)\n",
    "case_two = lennard_jones_eq(3.4, epsilon, sigma)\n",
    "print(\"In case two: the potential energy for the Argon atoms is \" + case_two)\n",
    "case_three = lennard_jones_eq(3.8, epsilon, sigma)\n",
    "print(\"In case three: the potential energy for the Argon atoms is \" + case_three)\n",
    "case_four = lennard_jones_eq(4.2, epsilon, sigma)\n",
    "print(\"In case four: the potential energy for the Argon atoms is \" + case_four)\n",
    "case_five = lennard_jones_eq(4.6, epsilon, sigma)\n",
    "print(\"In case five: the potential energy for the Argon atoms is \" + case_five)\n",
    "case_six = lennard_jones_eq(5.0, epsilon, sigma)\n",
    "print(\"In case six: the potential energy for the Argon atoms is \" + case_six)"
   ]
  },
  {
   "cell_type": "markdown",
   "metadata": {},
   "source": [
    "---\n",
    "\n",
    "<h3> Task 2: </h3>"
   ]
  },
  {
   "cell_type": "code",
   "execution_count": 698,
   "metadata": {},
   "outputs": [
    {
     "name": "stdout",
     "output_type": "stream",
     "text": [
      "<class 'float'>\n"
     ]
    }
   ],
   "source": [
    "def find_min_key(values:dict):\n",
    "    potential_energies = [float(energy) for energy in values]\n",
    "    return min(potential_energies, key=lambda k:k)\n",
    "\n",
    "energy_values = {case_one:3.0, case_two:3.4, case_three:3.8, case_four:4.2, case_five:4.6, case_six:5.0}  \n",
    "\n",
    "minimum_key = find_min_key(energy_values)\n",
    "print(type(minimum_key))"
   ]
  }
 ],
 "metadata": {
  "kernelspec": {
   "display_name": "Python 3 (ipykernel)",
   "language": "python",
   "name": "python3"
  },
  "language_info": {
   "codemirror_mode": {
    "name": "ipython",
    "version": 3
   },
   "file_extension": ".py",
   "mimetype": "text/x-python",
   "name": "python",
   "nbconvert_exporter": "python",
   "pygments_lexer": "ipython3",
   "version": "3.11.5"
  }
 },
 "nbformat": 4,
 "nbformat_minor": 4
}
