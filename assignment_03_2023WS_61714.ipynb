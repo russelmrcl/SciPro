{
 "cells": [
  {
   "cell_type": "markdown",
   "metadata": {},
   "source": [
    "## *Lennard-Jones Equation*\n",
    "---"
   ]
  },
  {
   "cell_type": "markdown",
   "metadata": {},
   "source": [
    "**Author:** 2023WS_61714\n",
    "\n",
    "**Date:** October 26, 2023\n",
    "\n",
    "---"
   ]
  },
  {
   "cell_type": "markdown",
   "metadata": {},
   "source": [
    "**Goal:** Enhace the initial Lennard-Jones equation solution, apply it to various scenarios, develop functions, explore built-in functions <br /> and practice significant figures [[1]](#1) [[3]](#3)."
   ]
  },
  {
   "cell_type": "markdown",
   "metadata": {},
   "source": [
    "<div style=\"text-align: center\">\n",
    "\n",
    "<h2> Equation: </h2>\n",
    "\n",
    "</div>"
   ]
  },
  {
   "cell_type": "markdown",
   "metadata": {},
   "source": [
    "<div style=\"text-align: center\">\n",
    "\n",
    "### $V_{LJ}(r) = 4\\varepsilon \\ \\left[\\left(\\frac {\\sigma} {r}\\right)^{12} -\\left(\\frac {\\sigma} {r}\\right)^{6} \\right]$\n",
    "\n",
    "</div>\n",
    "\n",
    "---"
   ]
  },
  {
   "cell_type": "markdown",
   "metadata": {},
   "source": [
    "**References**\n",
    "\n",
    "<a id=\"1\">[1]</a> Lennard-Jones Equation: https://en.wikipedia.org/wiki/Lennard-Jones_potential.\n",
    "<br />\n",
    "<a id=\"2\">[2]</a> eV to Joule: https://www.unitjuggler.com/convert-energy-from-eV-to-J.html \n",
    "<br />\n",
    "<a id=\"3\">[3]</a> Significant Figures: https://www.youtube.com/watch?v=l2yuDvwYq5g&ab_channel=TheOrganicChemistryTutor\n",
    "<br />\n",
    "<a id=\"4\">[4]</a> Python min() Function: https://www.w3schools.com/python/ref_func_min.asp\n",
    "<br />\n",
    "<a id=\"5\">[5]</a> Python Dictionary: https://www.w3schools.com/python/python_dictionaries.asp\n"
   ]
  },
  {
   "cell_type": "markdown",
   "metadata": {},
   "source": [
    "<h3> Task 1: </h3>\n",
    "\n",
    "To calculate the non-bonded potential energy between two atoms, we use the Lennard-Jones equation and <br /> convert it to International Unit for Energy (Joule) [[2]](#2), which is represented by the following Python function:"
   ]
  },
  {
   "cell_type": "code",
   "execution_count": 25,
   "metadata": {},
   "outputs": [],
   "source": [
    "def lennard_jones_eq(r:float, epsilon:float, sigma:float):\n",
    "    return (4 * epsilon * (((sigma / r) ** 12) - ((sigma / r) ** 6))) * 1.602176565E-19"
   ]
  },
  {
   "cell_type": "markdown",
   "metadata": {},
   "source": [
    "In this task, we've already set specific values for atoms, with $\\epsilon$ = 0.0103 eV (electronvolts) and $\\sigma$ = 3.40 Å (Angstroms), which are the values for Argon atoms."
   ]
  },
  {
   "cell_type": "code",
   "execution_count": 26,
   "metadata": {},
   "outputs": [],
   "source": [
    "epsilon = 0.0103\n",
    "sigma = 3.40"
   ]
  },
  {
   "cell_type": "markdown",
   "metadata": {},
   "source": [
    "In all six cases, the specified distances, according to the assignment: `3.0`, `3.4`, `3.8`, `4.2`, `4.6`, and `5.0` Angstroms.<br />When using the Lennard-Jones Equation, `r` has **2** significant figures, `ϵ` and `σ` have **3** significant figures. In addition, <br />the numbers `4`, `6`, and `12` have an **infinite number of significant figures**. In each of <br />these cases, the number of significant figures is two, determined by the lowest amount of significant figures of participating numbers"
   ]
  },
  {
   "cell_type": "markdown",
   "metadata": {},
   "source": [
    "**1. Case:** r = 3.0"
   ]
  },
  {
   "cell_type": "code",
   "execution_count": 27,
   "metadata": {},
   "outputs": [
    {
     "data": {
      "text/plain": [
       "1.5653522741597688e-20"
      ]
     },
     "execution_count": 27,
     "metadata": {},
     "output_type": "execute_result"
    }
   ],
   "source": [
    "case_one = lennard_jones_eq(3.0, epsilon, sigma)\n",
    "case_one"
   ]
  },
  {
   "cell_type": "markdown",
   "metadata": {},
   "source": [
    "Given the specified number of significant figures (2), we can create a Python function<br/> that utilized the built-in string formatting function to properly format the result in decimal notation."
   ]
  },
  {
   "cell_type": "code",
   "execution_count": 28,
   "metadata": {},
   "outputs": [],
   "source": [
    "def lennard_jones_eq(r:float, epsilon:float, sigma:float):\n",
    "    result = (4 * epsilon * (((sigma / r) ** 12) - ((sigma / r) ** 6))) * 1.602176565E-19\n",
    "    res_str = f\"{result:.2g}\"\n",
    "    return float(res_str)"
   ]
  },
  {
   "cell_type": "code",
   "execution_count": 29,
   "metadata": {},
   "outputs": [
    {
     "data": {
      "text/plain": [
       "1.6e-20"
      ]
     },
     "execution_count": 29,
     "metadata": {},
     "output_type": "execute_result"
    }
   ],
   "source": [
    "case_one = lennard_jones_eq(3.0, epsilon, sigma)\n",
    "case_one"
   ]
  },
  {
   "cell_type": "markdown",
   "metadata": {},
   "source": [
    "**All Cases:**\n",
    "\n",
    "We now apply the new function to all cases."
   ]
  },
  {
   "cell_type": "code",
   "execution_count": 30,
   "metadata": {},
   "outputs": [
    {
     "name": "stdout",
     "output_type": "stream",
     "text": [
      "In case one: the potential energy for the Argon atoms is: 1.6e-20\n",
      "In case two: the potential energy for the Argon atoms is: 0.0\n",
      "In case three: the potential energy for the Argon atoms is: -1.6e-21\n",
      "In case four: the potential energy for the Argon atoms is: -1.3e-21\n",
      "In case five: the potential energy for the Argon atoms is: -9e-22\n",
      "In case six: the potential energy for the Argon atoms is: -5.9e-22\n"
     ]
    }
   ],
   "source": [
    "print(\"In case one: the potential energy for the Argon atoms is:\", case_one) #first case\n",
    "\n",
    "case_two = lennard_jones_eq(3.4, epsilon, sigma)\n",
    "print(\"In case two: the potential energy for the Argon atoms is:\", case_two) #second case \n",
    "\n",
    "case_three = lennard_jones_eq(3.8, epsilon, sigma)\n",
    "print(\"In case three: the potential energy for the Argon atoms is:\", case_three) #third case\n",
    "\n",
    "case_four = lennard_jones_eq(4.2, epsilon, sigma)\n",
    "print(\"In case four: the potential energy for the Argon atoms is:\", case_four) #fourth case \n",
    "\n",
    "case_five = lennard_jones_eq(4.6, epsilon, sigma)\n",
    "print(\"In case five: the potential energy for the Argon atoms is:\", case_five) #fifth case\n",
    "\n",
    "case_six = lennard_jones_eq(5.0, epsilon, sigma)\n",
    "print(\"In case six: the potential energy for the Argon atoms is:\", case_six) #sixth case"
   ]
  },
  {
   "cell_type": "markdown",
   "metadata": {},
   "source": [
    "<hr />\n",
    "\n",
    "<h3> Task 2: </h3>\n",
    "\n",
    "To find the lowest energy value and the corresponding distance. We will use the built-in Python function `min()` [[4]](#4). This function scans <br /> the dictionary and selects the key-value pair with the smallest key [[5]](#5)."
   ]
  },
  {
   "cell_type": "code",
   "execution_count": 31,
   "metadata": {},
   "outputs": [],
   "source": [
    "def find_min_energy(values:dict):\n",
    "    return min(values, key=lambda k:k)"
   ]
  },
  {
   "cell_type": "code",
   "execution_count": 32,
   "metadata": {},
   "outputs": [
    {
     "name": "stdout",
     "output_type": "stream",
     "text": [
      "The potential energy of Argon atoms is -1.6e-21 (Joules) and the distance is 3.8\n"
     ]
    }
   ],
   "source": [
    "energy_values = {case_one:3.0, case_two:3.4, case_three:3.8, case_four:4.2, case_five:4.6, case_six:5.0}  \n",
    "\n",
    "min_value = find_min_energy(energy_values)\n",
    "print(f\"The potential energy of Argon atoms is {min_value} (Joules) and the distance is {energy_values[min_value]}\")"
   ]
  }
 ],
 "metadata": {
  "kernelspec": {
   "display_name": "Python 3 (ipykernel)",
   "language": "python",
   "name": "python3"
  },
  "language_info": {
   "codemirror_mode": {
    "name": "ipython",
    "version": 3
   },
   "file_extension": ".py",
   "mimetype": "text/x-python",
   "name": "python",
   "nbconvert_exporter": "python",
   "pygments_lexer": "ipython3",
   "version": "3.11.5"
  }
 },
 "nbformat": 4,
 "nbformat_minor": 4
}
