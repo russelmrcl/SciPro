{
 "cells": [
  {
   "cell_type": "markdown",
   "metadata": {},
   "source": [
    "<h3 style=\"text-align: center\"><i>Regular Python Lists when Computing a Loss Function</i></h3>"
   ]
  },
  {
   "cell_type": "markdown",
   "metadata": {},
   "source": [
    "**Author:** Russel Marcelo\n",
    "\n",
    "**Date:** December 1, 2023\n",
    "\n",
    "---"
   ]
  },
  {
   "cell_type": "markdown",
   "metadata": {},
   "source": [
    "**Goal:** \n",
    "This assignment focuses on examining how using Numpy [[2]](#2) affects numerical computation performance, while also <br /> reinforcing skills in Pandas [[1]](#1). It introduces the concept and application of a loss function."
   ]
  },
  {
   "cell_type": "markdown",
   "metadata": {},
   "source": [
    "**Problem and Input:** A machine learning model devised by weather researchers forecasts rainfall and evaporation <br />  across various locations in Australia on different days. [Table 1](#t1) displays the data collected from both experimental observations and model predictions."
   ]
  },
  {
   "cell_type": "markdown",
   "metadata": {},
   "source": [
    "**The observables are described by the following:**\n",
    "\n",
    "- **Date** - The observation date.\n",
    "\n",
    "- **Location** - The weather station location.\n",
    "  \n",
    "- **MinTemp** - The minimum temperature (°C).\n",
    "  \n",
    "- **MaxTemp** - The maximum temperature (°C).\n",
    "  \n",
    "- **Rainfall** - The rainfall amount in 24 hours (mm).\n",
    "  \n",
    "- **Evaporation** - The evaporation amount in 24 hours (mm).\n",
    "  \n",
    "- **Sunshine** - The sunshine amount in 24 hours (h).\n",
    "  \n",
    "- **WindGustSpeed** - The maximum wind gust speed in 24 hours (h).\n",
    "  \n",
    "- **RainToday** - Did it rain on that day? yes: if precipitation >= 1 mm, no:if precipitation < 1 mm.\n",
    "  \n",
    "- **RainTomorrow** - Did it rain in the following day? yes: if precipitation >= 1 mm, no: if precipitation < 1 mm."
   ]
  },
  {
   "cell_type": "markdown",
   "metadata": {},
   "source": [
    "**References**\n",
    "\n",
    "<a id=\"1\">[1]</a> Pandas: Python Data Analysis Library: https://johnfoster.pge.utexas.edu/numerical-methods-book/ScientificPython_Pandas.html\n",
    "<br />\n",
    "<a id=\"2\">[2]</a> Numpy: https://www.geeksforgeeks.org/introduction-to-numpy/\n",
    "<br />\n",
    "<a id=\"3\">[3]</a> Loss function: https://en.wikipedia.org/wiki/Loss_function\n",
    "<br />\n",
    "<a id=\"4\">[4]</a> zip function: https://realpython.com/python-zip-function/\n",
    "<br /> \n",
    "<a id=\"5\">[5]</a> timeit: https://docs.python.org/3/library/timeit.html"
   ]
  },
  {
   "cell_type": "markdown",
   "metadata": {},
   "source": [
    "<a id=\"t1\" style=\"text-align: center\">\n",
    "<h3>Table 1</h3>\n",
    "</a>\n",
    "\n",
    "| Location: Australia     |             |                |                |               |              | Experimental     |                     |            |               | Model Prediction     |               |\n",
    "| ------------ | ---------- |:--------------:|:--------------:|:-------------:|:------------:|:------------:|:-------------------:|:----------:|:-------------:|:-------------:|:-------------:|\n",
    "| *Date*         | *Location*    | *Min. Temp (°C)* | *Max. Temp (°C)* | *Rainfall (mm)* | *Evapor. (mm)* | *Sunshine (h)* | *Wind speed (km/h)* | *Rain Today* | *Rain Tomorrow* | *Rainfall (mm)* | *Evapor. (mm)* |\n",
    "| 2009-01-02 | Cobar | 18.4 | 28.9 | 0.0 | 14.8 | 13.0 | 37.0 | No | No | 1.16457 | 7.564111 |\n",
    "| 2009-01-04 | Cobar | 19.4 | 37.6 | 0.0 | 10.8 | 10.6 | 46.0 | No | No | 1.077602 | 2.872613 |\n",
    "| 2009-01-05 | Cobar | 21.9 | 38.4 | 0.0 | 11.4 | 12.2 | 31.0 | No | No | 2.082352 | 8.060459 |\n",
    "| 2009-01-06 | Cobar | 24.2 | 41.0 | 0.0 | 11.2 | 8.4 | 35.0 | No | No | 7.453461 | 7.468973 |\n",
    "| ... | ... | ... | ... | ... | ... | ... | ... | ... | ... | ... | ... |"
   ]
  },
  {
   "cell_type": "markdown",
   "metadata": {},
   "source": [
    "<div style=\"text-align: center\">\n",
    "\n",
    "#### Loss function to calculate the predicted rainfall and evaporation\n",
    "\n",
    "A loss function [[3]](#3) is a mathematical method used to measure how well a machine learning model performs <br /> by quantifying the difference between predicted and actual values, guiding the model towards improvement.\n",
    "\n",
    "</div>"
   ]
  },
  {
   "cell_type": "markdown",
   "metadata": {},
   "source": [
    "<div style=\"text-align: center\"><a id=\"loss\">\n",
    "\n",
    "#### $$Loss = \\alpha * | R^{Pred.} - R^{Exp.}| + \\beta * | E^{Pred.} - E^{Exp} |$$\n",
    "\n",
    "</a>\n",
    "</div>"
   ]
  },
  {
   "cell_type": "markdown",
   "metadata": {},
   "source": [
    "$\\alpha$ is the rainfall contemplatig factor. \n",
    "<br /> \n",
    "$\\beta$ is the evaporation contemplating factor.\n",
    "<br />\n",
    "$R^{Pred.} - R^{Exp.}$ are the predicted and experimental rainfall attributes.\n",
    "<br />\n",
    "$E^{Pred.} - E^{Exp}$ are the predicted and experimental evaportation attributes."
   ]
  },
  {
   "cell_type": "markdown",
   "metadata": {},
   "source": [
    "**Import**\n",
    "\n",
    "Let's import the essential libraries needed for the assignment: `pandas` [[1]](#1), `numpy` [[2]](#2) and `timeit` [[3]](#3). <br />So that we can use them later in the code blocks."
   ]
  },
  {
   "cell_type": "code",
   "execution_count": 1,
   "metadata": {},
   "outputs": [],
   "source": [
    "import pandas as pd\n",
    "import numpy as np\n",
    "import timeit\n"
   ]
  },
  {
   "cell_type": "markdown",
   "metadata": {},
   "source": [
    "---"
   ]
  },
  {
   "cell_type": "markdown",
   "metadata": {},
   "source": [
    "<h3> Task 1: </h3>\n",
    "\n",
    "We'll extract data from the files `experiment.csv` and `weather-prediction.csv` using `pd.read_csv from` <br /> the Pandas library. Upon importing the data, we'll employ `.drop_duplicates()` to **eliminate any duplicate entries**. <br /> Additionally, to handle any **missing or NaN values** within our dataframe, we'll utilize `.dropna()` to **clean and remove them.**"
   ]
  },
  {
   "cell_type": "code",
   "execution_count": 2,
   "metadata": {},
   "outputs": [
    {
     "data": {
      "text/html": [
       "<div>\n",
       "<style scoped>\n",
       "    .dataframe tbody tr th:only-of-type {\n",
       "        vertical-align: middle;\n",
       "    }\n",
       "\n",
       "    .dataframe tbody tr th {\n",
       "        vertical-align: top;\n",
       "    }\n",
       "\n",
       "    .dataframe thead th {\n",
       "        text-align: right;\n",
       "    }\n",
       "</style>\n",
       "<table border=\"1\" class=\"dataframe\">\n",
       "  <thead>\n",
       "    <tr style=\"text-align: right;\">\n",
       "      <th></th>\n",
       "      <th>Date</th>\n",
       "      <th>Location</th>\n",
       "      <th>MinTemp</th>\n",
       "      <th>MaxTemp</th>\n",
       "      <th>Rainfall</th>\n",
       "      <th>Evaporation</th>\n",
       "      <th>Sunshine</th>\n",
       "      <th>WindGustSpeed</th>\n",
       "      <th>RainToday</th>\n",
       "      <th>RainTomorrow</th>\n",
       "    </tr>\n",
       "  </thead>\n",
       "  <tbody>\n",
       "    <tr>\n",
       "      <th>0</th>\n",
       "      <td>2009-01-01</td>\n",
       "      <td>Cobar</td>\n",
       "      <td>17.9</td>\n",
       "      <td>35.2</td>\n",
       "      <td>0.0</td>\n",
       "      <td>12.0</td>\n",
       "      <td>12.3</td>\n",
       "      <td>48.0</td>\n",
       "      <td>No</td>\n",
       "      <td>No</td>\n",
       "    </tr>\n",
       "    <tr>\n",
       "      <th>1</th>\n",
       "      <td>2009-01-02</td>\n",
       "      <td>Cobar</td>\n",
       "      <td>18.4</td>\n",
       "      <td>28.9</td>\n",
       "      <td>0.0</td>\n",
       "      <td>14.8</td>\n",
       "      <td>13.0</td>\n",
       "      <td>37.0</td>\n",
       "      <td>No</td>\n",
       "      <td>No</td>\n",
       "    </tr>\n",
       "    <tr>\n",
       "      <th>2</th>\n",
       "      <td>2009-01-04</td>\n",
       "      <td>Cobar</td>\n",
       "      <td>19.4</td>\n",
       "      <td>37.6</td>\n",
       "      <td>0.0</td>\n",
       "      <td>10.8</td>\n",
       "      <td>10.6</td>\n",
       "      <td>46.0</td>\n",
       "      <td>No</td>\n",
       "      <td>No</td>\n",
       "    </tr>\n",
       "    <tr>\n",
       "      <th>3</th>\n",
       "      <td>2009-01-05</td>\n",
       "      <td>Cobar</td>\n",
       "      <td>21.9</td>\n",
       "      <td>38.4</td>\n",
       "      <td>0.0</td>\n",
       "      <td>11.4</td>\n",
       "      <td>12.2</td>\n",
       "      <td>31.0</td>\n",
       "      <td>No</td>\n",
       "      <td>No</td>\n",
       "    </tr>\n",
       "    <tr>\n",
       "      <th>4</th>\n",
       "      <td>2009-01-06</td>\n",
       "      <td>Cobar</td>\n",
       "      <td>24.2</td>\n",
       "      <td>41.0</td>\n",
       "      <td>0.0</td>\n",
       "      <td>11.2</td>\n",
       "      <td>8.4</td>\n",
       "      <td>35.0</td>\n",
       "      <td>No</td>\n",
       "      <td>No</td>\n",
       "    </tr>\n",
       "    <tr>\n",
       "      <th>...</th>\n",
       "      <td>...</td>\n",
       "      <td>...</td>\n",
       "      <td>...</td>\n",
       "      <td>...</td>\n",
       "      <td>...</td>\n",
       "      <td>...</td>\n",
       "      <td>...</td>\n",
       "      <td>...</td>\n",
       "      <td>...</td>\n",
       "      <td>...</td>\n",
       "    </tr>\n",
       "    <tr>\n",
       "      <th>55242</th>\n",
       "      <td>2017-06-20</td>\n",
       "      <td>Darwin</td>\n",
       "      <td>19.3</td>\n",
       "      <td>33.4</td>\n",
       "      <td>0.0</td>\n",
       "      <td>6.0</td>\n",
       "      <td>11.0</td>\n",
       "      <td>35.0</td>\n",
       "      <td>No</td>\n",
       "      <td>No</td>\n",
       "    </tr>\n",
       "    <tr>\n",
       "      <th>55243</th>\n",
       "      <td>2017-06-21</td>\n",
       "      <td>Darwin</td>\n",
       "      <td>21.2</td>\n",
       "      <td>32.6</td>\n",
       "      <td>0.0</td>\n",
       "      <td>7.6</td>\n",
       "      <td>8.6</td>\n",
       "      <td>37.0</td>\n",
       "      <td>No</td>\n",
       "      <td>No</td>\n",
       "    </tr>\n",
       "    <tr>\n",
       "      <th>55244</th>\n",
       "      <td>2017-06-22</td>\n",
       "      <td>Darwin</td>\n",
       "      <td>20.7</td>\n",
       "      <td>32.8</td>\n",
       "      <td>0.0</td>\n",
       "      <td>5.6</td>\n",
       "      <td>11.0</td>\n",
       "      <td>33.0</td>\n",
       "      <td>No</td>\n",
       "      <td>No</td>\n",
       "    </tr>\n",
       "    <tr>\n",
       "      <th>55245</th>\n",
       "      <td>2017-06-23</td>\n",
       "      <td>Darwin</td>\n",
       "      <td>19.5</td>\n",
       "      <td>31.8</td>\n",
       "      <td>0.0</td>\n",
       "      <td>6.2</td>\n",
       "      <td>10.6</td>\n",
       "      <td>26.0</td>\n",
       "      <td>No</td>\n",
       "      <td>No</td>\n",
       "    </tr>\n",
       "    <tr>\n",
       "      <th>55246</th>\n",
       "      <td>2017-06-24</td>\n",
       "      <td>Darwin</td>\n",
       "      <td>20.2</td>\n",
       "      <td>31.7</td>\n",
       "      <td>0.0</td>\n",
       "      <td>5.6</td>\n",
       "      <td>10.7</td>\n",
       "      <td>30.0</td>\n",
       "      <td>No</td>\n",
       "      <td>No</td>\n",
       "    </tr>\n",
       "  </tbody>\n",
       "</table>\n",
       "<p>55247 rows × 10 columns</p>\n",
       "</div>"
      ],
      "text/plain": [
       "             Date Location  MinTemp  MaxTemp  Rainfall  Evaporation  Sunshine  \\\n",
       "0      2009-01-01    Cobar     17.9     35.2       0.0         12.0      12.3   \n",
       "1      2009-01-02    Cobar     18.4     28.9       0.0         14.8      13.0   \n",
       "2      2009-01-04    Cobar     19.4     37.6       0.0         10.8      10.6   \n",
       "3      2009-01-05    Cobar     21.9     38.4       0.0         11.4      12.2   \n",
       "4      2009-01-06    Cobar     24.2     41.0       0.0         11.2       8.4   \n",
       "...           ...      ...      ...      ...       ...          ...       ...   \n",
       "55242  2017-06-20   Darwin     19.3     33.4       0.0          6.0      11.0   \n",
       "55243  2017-06-21   Darwin     21.2     32.6       0.0          7.6       8.6   \n",
       "55244  2017-06-22   Darwin     20.7     32.8       0.0          5.6      11.0   \n",
       "55245  2017-06-23   Darwin     19.5     31.8       0.0          6.2      10.6   \n",
       "55246  2017-06-24   Darwin     20.2     31.7       0.0          5.6      10.7   \n",
       "\n",
       "       WindGustSpeed RainToday RainTomorrow  \n",
       "0               48.0        No           No  \n",
       "1               37.0        No           No  \n",
       "2               46.0        No           No  \n",
       "3               31.0        No           No  \n",
       "4               35.0        No           No  \n",
       "...              ...       ...          ...  \n",
       "55242           35.0        No           No  \n",
       "55243           37.0        No           No  \n",
       "55244           33.0        No           No  \n",
       "55245           26.0        No           No  \n",
       "55246           30.0        No           No  \n",
       "\n",
       "[55247 rows x 10 columns]"
      ]
     },
     "execution_count": 2,
     "metadata": {},
     "output_type": "execute_result"
    }
   ],
   "source": [
    "data_exp = pd.read_csv(\"../docs/weather_experiment.csv\", header=0, sep=\",\")\n",
    "data_exp.dropna(axis=0, how='any', inplace=True)\n",
    "data_exp.drop_duplicates(inplace=True)\n",
    "data_exp"
   ]
  },
  {
   "cell_type": "markdown",
   "metadata": {},
   "source": [
    "Next, we repeat the process with the second .csv file, housing predicted rainfall and evaporation data."
   ]
  },
  {
   "cell_type": "code",
   "execution_count": 3,
   "metadata": {},
   "outputs": [
    {
     "data": {
      "text/html": [
       "<div>\n",
       "<style scoped>\n",
       "    .dataframe tbody tr th:only-of-type {\n",
       "        vertical-align: middle;\n",
       "    }\n",
       "\n",
       "    .dataframe tbody tr th {\n",
       "        vertical-align: top;\n",
       "    }\n",
       "\n",
       "    .dataframe thead th {\n",
       "        text-align: right;\n",
       "    }\n",
       "</style>\n",
       "<table border=\"1\" class=\"dataframe\">\n",
       "  <thead>\n",
       "    <tr style=\"text-align: right;\">\n",
       "      <th></th>\n",
       "      <th>Date</th>\n",
       "      <th>Location</th>\n",
       "      <th>Rainfall Pred.</th>\n",
       "      <th>Evaporation Pred.</th>\n",
       "    </tr>\n",
       "  </thead>\n",
       "  <tbody>\n",
       "    <tr>\n",
       "      <th>0</th>\n",
       "      <td>2009-01-01</td>\n",
       "      <td>Cobar</td>\n",
       "      <td>7.098998</td>\n",
       "      <td>6.179719</td>\n",
       "    </tr>\n",
       "    <tr>\n",
       "      <th>1</th>\n",
       "      <td>2009-01-02</td>\n",
       "      <td>Cobar</td>\n",
       "      <td>1.433238</td>\n",
       "      <td>6.375806</td>\n",
       "    </tr>\n",
       "    <tr>\n",
       "      <th>2</th>\n",
       "      <td>2009-01-04</td>\n",
       "      <td>Cobar</td>\n",
       "      <td>0.914834</td>\n",
       "      <td>5.687946</td>\n",
       "    </tr>\n",
       "    <tr>\n",
       "      <th>3</th>\n",
       "      <td>2009-01-05</td>\n",
       "      <td>Cobar</td>\n",
       "      <td>5.285904</td>\n",
       "      <td>6.897139</td>\n",
       "    </tr>\n",
       "    <tr>\n",
       "      <th>4</th>\n",
       "      <td>2009-01-06</td>\n",
       "      <td>Cobar</td>\n",
       "      <td>0.993975</td>\n",
       "      <td>0.050364</td>\n",
       "    </tr>\n",
       "    <tr>\n",
       "      <th>...</th>\n",
       "      <td>...</td>\n",
       "      <td>...</td>\n",
       "      <td>...</td>\n",
       "      <td>...</td>\n",
       "    </tr>\n",
       "    <tr>\n",
       "      <th>55242</th>\n",
       "      <td>2017-06-20</td>\n",
       "      <td>Darwin</td>\n",
       "      <td>5.693780</td>\n",
       "      <td>3.400099</td>\n",
       "    </tr>\n",
       "    <tr>\n",
       "      <th>55243</th>\n",
       "      <td>2017-06-21</td>\n",
       "      <td>Darwin</td>\n",
       "      <td>1.548031</td>\n",
       "      <td>1.696780</td>\n",
       "    </tr>\n",
       "    <tr>\n",
       "      <th>55244</th>\n",
       "      <td>2017-06-22</td>\n",
       "      <td>Darwin</td>\n",
       "      <td>1.516136</td>\n",
       "      <td>2.945245</td>\n",
       "    </tr>\n",
       "    <tr>\n",
       "      <th>55245</th>\n",
       "      <td>2017-06-23</td>\n",
       "      <td>Darwin</td>\n",
       "      <td>1.158509</td>\n",
       "      <td>4.960711</td>\n",
       "    </tr>\n",
       "    <tr>\n",
       "      <th>55246</th>\n",
       "      <td>2017-06-24</td>\n",
       "      <td>Darwin</td>\n",
       "      <td>1.919091</td>\n",
       "      <td>6.308155</td>\n",
       "    </tr>\n",
       "  </tbody>\n",
       "</table>\n",
       "<p>55247 rows × 4 columns</p>\n",
       "</div>"
      ],
      "text/plain": [
       "             Date Location  Rainfall Pred.  Evaporation Pred.\n",
       "0      2009-01-01    Cobar        7.098998           6.179719\n",
       "1      2009-01-02    Cobar        1.433238           6.375806\n",
       "2      2009-01-04    Cobar        0.914834           5.687946\n",
       "3      2009-01-05    Cobar        5.285904           6.897139\n",
       "4      2009-01-06    Cobar        0.993975           0.050364\n",
       "...           ...      ...             ...                ...\n",
       "55242  2017-06-20   Darwin        5.693780           3.400099\n",
       "55243  2017-06-21   Darwin        1.548031           1.696780\n",
       "55244  2017-06-22   Darwin        1.516136           2.945245\n",
       "55245  2017-06-23   Darwin        1.158509           4.960711\n",
       "55246  2017-06-24   Darwin        1.919091           6.308155\n",
       "\n",
       "[55247 rows x 4 columns]"
      ]
     },
     "execution_count": 3,
     "metadata": {},
     "output_type": "execute_result"
    }
   ],
   "source": [
    "data_pred = pd.read_csv(\"../docs/weather_prediction.csv\",header=0, sep=\",\")\n",
    "data_pred.dropna(axis=0, how='any', inplace=True)\n",
    "data_pred.drop_duplicates(inplace=True)\n",
    "data_pred"
   ]
  },
  {
   "cell_type": "markdown",
   "metadata": {},
   "source": [
    "---"
   ]
  },
  {
   "cell_type": "markdown",
   "metadata": {},
   "source": [
    "<h3> Task 2: </h3>\n",
    "\n",
    "In this task, we need to develop user-defined functions that encode and calculate the [loss function](#loss) with the following criteria:\n",
    "\n",
    "1. Perform calculations using standard Python lists exclusively (avoiding the use of Numpy or ndarrays).\n",
    "  <br />\n",
    "  <br />\n",
    "2. Perform calculations using Numpy, maximizing the utilization of its library functionalities for enhanced performance."
   ]
  },
  {
   "cell_type": "markdown",
   "metadata": {},
   "source": [
    "<div style=\"text-align: center\">\n",
    "<p><b>standard Python lists</b></p>\n",
    "\n",
    "To perform the calculation using regular Python lists:\n",
    "\n",
    "</div>"
   ]
  },
  {
   "cell_type": "code",
   "execution_count": 6,
   "metadata": {},
   "outputs": [],
   "source": [
    "def loss_func_regular(alpha:float, beta:float, r_pred:list, r_exp:list, e_pred:list, e_exp:list) -> list:\n",
    "    return [alpha * abs(r_p - r_e) + beta * abs(e_p - e_e) \n",
    "            for r_p, r_e, e_p, e_e in zip(r_pred, r_exp, e_pred, e_exp)]"
   ]
  },
  {
   "cell_type": "markdown",
   "metadata": {},
   "source": [
    "In this context, `zip` [[4]](#4) is used to take elements from the lists `r_pred`, `r_exp`, `e_pred` and `e_exp` and <br /> then execute the `loss_func_regular` on them. At the end we get a list with **all results**."
   ]
  },
  {
   "cell_type": "markdown",
   "metadata": {},
   "source": [
    "<div style=\"text-align: center\">\n",
    "<p><b>Numpy Array</b></p>\n",
    "\n",
    "To utilize Numpy for the calculation, the initial step involves converting the data lists into Numpy arrays by employing `np.array()`.\n",
    "\n",
    "</div>"
   ]
  },
  {
   "cell_type": "code",
   "execution_count": 7,
   "metadata": {},
   "outputs": [],
   "source": [
    "def loss_function_np(alpha:float, beta:float, \n",
    "                        r_pred_np: np.ndarray, r_exp_np: np.ndarray, \n",
    "                        e_pred_np: np.ndarray, e_exp_np: np.ndarray):\n",
    "    \n",
    "    # Then we calculate the results using Numpy's functions\n",
    "    return alpha * np.abs(r_pred_np - r_exp_np) + beta * np.abs(e_pred_np - e_exp_np)"
   ]
  },
  {
   "cell_type": "markdown",
   "metadata": {},
   "source": [
    "---"
   ]
  },
  {
   "cell_type": "markdown",
   "metadata": {},
   "source": [
    "<h3>Task 3:</h3>\n",
    "\n",
    "In this task, we aim to check how fast the functions from Task 2 work using the `timeit` [[5]](#5) library. We'll do this by <br /> measuring how long it takes for the functions to calculate the loss value when both $\\alpha$ and $\\beta$ are set to `0.5`."
   ]
  },
  {
   "cell_type": "markdown",
   "metadata": {},
   "source": [
    "The essential data will be stored as `lists` initially and then transformed into `Numpy arrays`. <br /> These arrays will serve as parameters for the two custom functions mentioned earlier."
   ]
  },
  {
   "cell_type": "code",
   "execution_count": 8,
   "metadata": {},
   "outputs": [],
   "source": [
    "r_pred = data_pred['Rainfall Pred.'].values.tolist()\n",
    "r_exp = data_exp['Rainfall'].values.tolist()\n",
    "e_pred = data_pred['Evaporation Pred.'].values.tolist()\n",
    "e_exp = data_exp['Evaporation'].values.tolist()\n",
    "\n",
    "# Then we convert the data from lists to Numpy arrays\n",
    "r_pred_np = np.array(r_pred)\n",
    "r_exp_np = np.array(r_exp)\n",
    "e_pred_np = np.array(e_pred)\n",
    "e_exp_np = np.array(e_exp)"
   ]
  },
  {
   "cell_type": "markdown",
   "metadata": {},
   "source": [
    "#### **Python lists:**"
   ]
  },
  {
   "cell_type": "code",
   "execution_count": 9,
   "metadata": {},
   "outputs": [
    {
     "data": {
      "text/plain": [
       "0.8761188520002179"
      ]
     },
     "execution_count": 9,
     "metadata": {},
     "output_type": "execute_result"
    }
   ],
   "source": [
    "time_py_lists = timeit.timeit(lambda: loss_func_regular(0.5, 0.5, r_pred, r_exp, e_pred, e_exp), number=100)\n",
    "\n",
    "time_py_lists"
   ]
  },
  {
   "cell_type": "markdown",
   "metadata": {},
   "source": [
    "#### **Numpy array:**"
   ]
  },
  {
   "cell_type": "code",
   "execution_count": 10,
   "metadata": {},
   "outputs": [
    {
     "data": {
      "text/plain": [
       "0.026985819000401534"
      ]
     },
     "execution_count": 10,
     "metadata": {},
     "output_type": "execute_result"
    }
   ],
   "source": [
    "time_py_numpy = timeit.timeit(lambda: loss_function_np(0.5, 0.5, r_pred_np, r_exp_np, e_pred_np, e_exp_np), number=100)\n",
    "\n",
    "time_py_numpy"
   ]
  },
  {
   "cell_type": "markdown",
   "metadata": {},
   "source": [
    "#### **Conclusion:**\n",
    "\n",
    "`Numpy arrays` showed **faster** computation times compared to `Python lists` in calculating the loss function with $\\alpha$ and $\\beta$ set to `0.5`. <br /> This highlights Numpy's efficiency due to optimized array operations, making it a faster choice for numerical computations compared to standard Python lists."
   ]
  },
  {
   "cell_type": "markdown",
   "metadata": {},
   "source": [
    "---"
   ]
  }
 ],
 "metadata": {
  "kernelspec": {
   "display_name": "Python 3 (ipykernel)",
   "language": "python",
   "name": "python3"
  },
  "language_info": {
   "codemirror_mode": {
    "name": "ipython",
    "version": 3
   },
   "file_extension": ".py",
   "mimetype": "text/x-python",
   "name": "python",
   "nbconvert_exporter": "python",
   "pygments_lexer": "ipython3",
   "version": "3.11.5"
  }
 },
 "nbformat": 4,
 "nbformat_minor": 4
}
