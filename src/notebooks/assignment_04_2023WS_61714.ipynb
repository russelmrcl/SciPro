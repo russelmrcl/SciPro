{
 "cells": [
  {
   "cell_type": "markdown",
   "metadata": {},
   "source": [
    "<h2 style=\"text-align: center\"><i>The Interaction Between Two Atoms</i></h2>"
   ]
  },
  {
   "cell_type": "markdown",
   "metadata": {},
   "source": [
    "**Author:** 2023WS_61714\n",
    "\n",
    "**Date:** November 22, 2023\n",
    "\n",
    "---"
   ]
  },
  {
   "cell_type": "markdown",
   "metadata": {},
   "source": [
    "**Goal:** \n",
    "The Goal is to apply scientific computing knowledge by extending previous work on the Lennard-Jones equation [[1]](#1), implementing <br /> an alternative equation for nonbonded interactions, and exploring the Pandas library [[3]](#3) for data manipulation and analysis."
   ]
  },
  {
   "cell_type": "markdown",
   "metadata": {},
   "source": [
    "<div style=\"text-align: center\">\n",
    "\n",
    "<a id=\"lje\">\n",
    "<h4>Lennard-Jones Equation:</h4>\n",
    "</a>\n",
    "\n",
    "</div>"
   ]
  },
  {
   "cell_type": "markdown",
   "metadata": {},
   "source": [
    "<div style=\"text-align: center\">\n",
    "\n",
    "#### $V_{LJ}(r) = 4\\varepsilon \\ \\left[\\left(\\frac {\\sigma} {r}\\right)^{12} -\\left(\\frac {\\sigma} {r}\\right)^{6} \\right]$\n",
    "\n",
    "</div>"
   ]
  },
  {
   "cell_type": "markdown",
   "metadata": {},
   "source": [
    "<div style=\"text-align: center\">\n",
    "\n",
    "<a id=\"eee\">\n",
    "<h4>Yang et al.'s Expanded Exponential Equation: </h4>\n",
    "</a>\n",
    "\n",
    "</div>"
   ]
  },
  {
   "cell_type": "markdown",
   "metadata": {},
   "source": [
    "<div style=\"text-align: center\">\n",
    "\n",
    "#### $$V_{Exp}(r)=\\varepsilon \\left[  e^{\\alpha (1-\\frac{r}{\\sigma})} - \\left( \\left(\\frac{r}{\\sigma} \\right)^4 - 2 \\left(\\frac{r}{\\sigma} \\right)^2 + 3\\right) e^{(\\frac{\\alpha}{2})(1-\\frac{r}{\\sigma})}  \\right]$$\n",
    "\n",
    "</div>\n",
    "\n",
    "---"
   ]
  },
  {
   "cell_type": "markdown",
   "metadata": {},
   "source": [
    "**References**\n",
    "\n",
    "<a id=\"1\">[1]</a> Lennard-Jones Equation: https://en.wikipedia.org/wiki/Lennard-Jones_potential.\n",
    "<br />\n",
    "<a id=\"2\">[2]</a> Hartree to kj/mol: http://wild.life.nctu.edu.tw/class/common/energy-unit-conv-table.html\n",
    "<br />\n",
    "<a id=\"3\">[3]</a> Pandas: Python Data Analysis Library: https://johnfoster.pge.utexas.edu/numerical-methods-book/ScientificPython_Pandas.html\n",
    "<br />\n",
    "<a id=\"4\">[4]</a> extended exponential Equation from Yang et al: [van der Waals Function for Molecular Mechanics](../docs/YangSD2020.pdf)"
   ]
  },
  {
   "cell_type": "markdown",
   "metadata": {},
   "source": [
    "**Import**\n",
    "\n",
    "Let's import the essential libraries needed for the assignment: `pandas` and `numpy`. <br />So that we can use them later in the code blocks."
   ]
  },
  {
   "cell_type": "code",
   "execution_count": 13,
   "metadata": {},
   "outputs": [],
   "source": [
    "import pandas as pd\n",
    "import numpy as np"
   ]
  },
  {
   "cell_type": "markdown",
   "metadata": {},
   "source": [
    "---"
   ]
  },
  {
   "cell_type": "markdown",
   "metadata": {},
   "source": [
    "<h3> Task 1: </h3>\n",
    "\n",
    "We need utilize `Pandas` to load the $QM$ target data for $Ar_2$ from the file ([CybulskiT1999_Ar2.csv](CybulskiT1999_Ar2.csv)), making sure to **eliminate duplicates** and **missing rows**. <br /> \n",
    "After that, we need to **convert the numbers** in the potential energy column $V_{QM}(r)$ **(Hartree) to kJ/mol** [[2]](#2)."
   ]
  },
  {
   "cell_type": "code",
   "execution_count": 14,
   "metadata": {},
   "outputs": [
    {
     "data": {
      "text/html": [
       "<div>\n",
       "<style scoped>\n",
       "    .dataframe tbody tr th:only-of-type {\n",
       "        vertical-align: middle;\n",
       "    }\n",
       "\n",
       "    .dataframe tbody tr th {\n",
       "        vertical-align: top;\n",
       "    }\n",
       "\n",
       "    .dataframe thead th {\n",
       "        text-align: right;\n",
       "    }\n",
       "</style>\n",
       "<table border=\"1\" class=\"dataframe\">\n",
       "  <thead>\n",
       "    <tr style=\"text-align: right;\">\n",
       "      <th></th>\n",
       "      <th>R (Å)</th>\n",
       "      <th>$V_{QM}(r)$ (Hartree)</th>\n",
       "    </tr>\n",
       "  </thead>\n",
       "  <tbody>\n",
       "    <tr>\n",
       "      <th>0</th>\n",
       "      <td>3.000</td>\n",
       "      <td>0.003055</td>\n",
       "    </tr>\n",
       "    <tr>\n",
       "      <th>1</th>\n",
       "      <td>3.250</td>\n",
       "      <td>0.000518</td>\n",
       "    </tr>\n",
       "    <tr>\n",
       "      <th>2</th>\n",
       "      <td>3.500</td>\n",
       "      <td>-0.000279</td>\n",
       "    </tr>\n",
       "    <tr>\n",
       "      <th>3</th>\n",
       "      <td>3.500</td>\n",
       "      <td>-0.000279</td>\n",
       "    </tr>\n",
       "    <tr>\n",
       "      <th>4</th>\n",
       "      <td>3.600</td>\n",
       "      <td>NaN</td>\n",
       "    </tr>\n",
       "    <tr>\n",
       "      <th>5</th>\n",
       "      <td>3.750</td>\n",
       "      <td>-0.000441</td>\n",
       "    </tr>\n",
       "    <tr>\n",
       "      <th>6</th>\n",
       "      <td>3.775</td>\n",
       "      <td>-0.000442</td>\n",
       "    </tr>\n",
       "    <tr>\n",
       "      <th>7</th>\n",
       "      <td>3.800</td>\n",
       "      <td>-0.000441</td>\n",
       "    </tr>\n",
       "    <tr>\n",
       "      <th>8</th>\n",
       "      <td>3.850</td>\n",
       "      <td>-0.000436</td>\n",
       "    </tr>\n",
       "    <tr>\n",
       "      <th>9</th>\n",
       "      <td>3.950</td>\n",
       "      <td>NaN</td>\n",
       "    </tr>\n",
       "    <tr>\n",
       "      <th>10</th>\n",
       "      <td>4.000</td>\n",
       "      <td>-0.000400</td>\n",
       "    </tr>\n",
       "    <tr>\n",
       "      <th>11</th>\n",
       "      <td>4.250</td>\n",
       "      <td>-0.000313</td>\n",
       "    </tr>\n",
       "    <tr>\n",
       "      <th>12</th>\n",
       "      <td>4.500</td>\n",
       "      <td>-0.000232</td>\n",
       "    </tr>\n",
       "    <tr>\n",
       "      <th>13</th>\n",
       "      <td>5.000</td>\n",
       "      <td>-0.000123</td>\n",
       "    </tr>\n",
       "    <tr>\n",
       "      <th>14</th>\n",
       "      <td>5.000</td>\n",
       "      <td>-0.000123</td>\n",
       "    </tr>\n",
       "    <tr>\n",
       "      <th>15</th>\n",
       "      <td>6.000</td>\n",
       "      <td>-0.000038</td>\n",
       "    </tr>\n",
       "    <tr>\n",
       "      <th>16</th>\n",
       "      <td>7.000</td>\n",
       "      <td>-0.000014</td>\n",
       "    </tr>\n",
       "  </tbody>\n",
       "</table>\n",
       "</div>"
      ],
      "text/plain": [
       "    R (Å)  $V_{QM}(r)$ (Hartree)\n",
       "0   3.000               0.003055\n",
       "1   3.250               0.000518\n",
       "2   3.500              -0.000279\n",
       "3   3.500              -0.000279\n",
       "4   3.600                    NaN\n",
       "5   3.750              -0.000441\n",
       "6   3.775              -0.000442\n",
       "7   3.800              -0.000441\n",
       "8   3.850              -0.000436\n",
       "9   3.950                    NaN\n",
       "10  4.000              -0.000400\n",
       "11  4.250              -0.000313\n",
       "12  4.500              -0.000232\n",
       "13  5.000              -0.000123\n",
       "14  5.000              -0.000123\n",
       "15  6.000              -0.000038\n",
       "16  7.000              -0.000014"
      ]
     },
     "execution_count": 14,
     "metadata": {},
     "output_type": "execute_result"
    }
   ],
   "source": [
    "dataset = pd.read_csv('../docs/CybulskiT1999_Ar2.csv', sep=\";\")\n",
    "dataset.rename(columns={\"V(r) (Hartree)\": \"$V_{QM}(r)$ (Hartree)\"}, inplace=True)\n",
    "dataset"
   ]
  },
  {
   "cell_type": "markdown",
   "metadata": {},
   "source": [
    "We can use the `Pandas` [[3]](#3) `.drop_duplicates()` function to **eliminate duplicate entries** in our data frame. <br /> Additionally, the `.dropna()` function allows us to **remove missing or NaN values**"
   ]
  },
  {
   "cell_type": "code",
   "execution_count": 15,
   "metadata": {},
   "outputs": [
    {
     "data": {
      "text/html": [
       "<div>\n",
       "<style scoped>\n",
       "    .dataframe tbody tr th:only-of-type {\n",
       "        vertical-align: middle;\n",
       "    }\n",
       "\n",
       "    .dataframe tbody tr th {\n",
       "        vertical-align: top;\n",
       "    }\n",
       "\n",
       "    .dataframe thead th {\n",
       "        text-align: right;\n",
       "    }\n",
       "</style>\n",
       "<table border=\"1\" class=\"dataframe\">\n",
       "  <thead>\n",
       "    <tr style=\"text-align: right;\">\n",
       "      <th></th>\n",
       "      <th>R (Å)</th>\n",
       "      <th>$V_{QM}(r)$ (Hartree)</th>\n",
       "    </tr>\n",
       "  </thead>\n",
       "  <tbody>\n",
       "    <tr>\n",
       "      <th>0</th>\n",
       "      <td>3.000</td>\n",
       "      <td>0.003055</td>\n",
       "    </tr>\n",
       "    <tr>\n",
       "      <th>1</th>\n",
       "      <td>3.250</td>\n",
       "      <td>0.000518</td>\n",
       "    </tr>\n",
       "    <tr>\n",
       "      <th>2</th>\n",
       "      <td>3.500</td>\n",
       "      <td>-0.000279</td>\n",
       "    </tr>\n",
       "    <tr>\n",
       "      <th>5</th>\n",
       "      <td>3.750</td>\n",
       "      <td>-0.000441</td>\n",
       "    </tr>\n",
       "    <tr>\n",
       "      <th>6</th>\n",
       "      <td>3.775</td>\n",
       "      <td>-0.000442</td>\n",
       "    </tr>\n",
       "    <tr>\n",
       "      <th>7</th>\n",
       "      <td>3.800</td>\n",
       "      <td>-0.000441</td>\n",
       "    </tr>\n",
       "    <tr>\n",
       "      <th>8</th>\n",
       "      <td>3.850</td>\n",
       "      <td>-0.000436</td>\n",
       "    </tr>\n",
       "    <tr>\n",
       "      <th>10</th>\n",
       "      <td>4.000</td>\n",
       "      <td>-0.000400</td>\n",
       "    </tr>\n",
       "    <tr>\n",
       "      <th>11</th>\n",
       "      <td>4.250</td>\n",
       "      <td>-0.000313</td>\n",
       "    </tr>\n",
       "    <tr>\n",
       "      <th>12</th>\n",
       "      <td>4.500</td>\n",
       "      <td>-0.000232</td>\n",
       "    </tr>\n",
       "    <tr>\n",
       "      <th>13</th>\n",
       "      <td>5.000</td>\n",
       "      <td>-0.000123</td>\n",
       "    </tr>\n",
       "    <tr>\n",
       "      <th>15</th>\n",
       "      <td>6.000</td>\n",
       "      <td>-0.000038</td>\n",
       "    </tr>\n",
       "    <tr>\n",
       "      <th>16</th>\n",
       "      <td>7.000</td>\n",
       "      <td>-0.000014</td>\n",
       "    </tr>\n",
       "  </tbody>\n",
       "</table>\n",
       "</div>"
      ],
      "text/plain": [
       "    R (Å)  $V_{QM}(r)$ (Hartree)\n",
       "0   3.000               0.003055\n",
       "1   3.250               0.000518\n",
       "2   3.500              -0.000279\n",
       "5   3.750              -0.000441\n",
       "6   3.775              -0.000442\n",
       "7   3.800              -0.000441\n",
       "8   3.850              -0.000436\n",
       "10  4.000              -0.000400\n",
       "11  4.250              -0.000313\n",
       "12  4.500              -0.000232\n",
       "13  5.000              -0.000123\n",
       "15  6.000              -0.000038\n",
       "16  7.000              -0.000014"
      ]
     },
     "execution_count": 15,
     "metadata": {},
     "output_type": "execute_result"
    }
   ],
   "source": [
    "dataset = dataset.drop_duplicates()\n",
    "dataset = dataset.dropna()\n",
    "dataset"
   ]
  },
  {
   "cell_type": "markdown",
   "metadata": {},
   "source": [
    "Now, we convert the values **from Hartree to kJ/mol** [[2]](#2) by multiplying the values with `2625.5`."
   ]
  },
  {
   "cell_type": "code",
   "execution_count": 16,
   "metadata": {},
   "outputs": [
    {
     "data": {
      "text/html": [
       "<div>\n",
       "<style scoped>\n",
       "    .dataframe tbody tr th:only-of-type {\n",
       "        vertical-align: middle;\n",
       "    }\n",
       "\n",
       "    .dataframe tbody tr th {\n",
       "        vertical-align: top;\n",
       "    }\n",
       "\n",
       "    .dataframe thead th {\n",
       "        text-align: right;\n",
       "    }\n",
       "</style>\n",
       "<table border=\"1\" class=\"dataframe\">\n",
       "  <thead>\n",
       "    <tr style=\"text-align: right;\">\n",
       "      <th></th>\n",
       "      <th>R (Å)</th>\n",
       "      <th>$V_{QM}(r)$ (Hartree)</th>\n",
       "      <th>$V_{QM}(r)$ (kJ/mol)</th>\n",
       "    </tr>\n",
       "  </thead>\n",
       "  <tbody>\n",
       "    <tr>\n",
       "      <th>0</th>\n",
       "      <td>3.000</td>\n",
       "      <td>0.003055</td>\n",
       "      <td>8.020850</td>\n",
       "    </tr>\n",
       "    <tr>\n",
       "      <th>1</th>\n",
       "      <td>3.250</td>\n",
       "      <td>0.000518</td>\n",
       "      <td>1.360298</td>\n",
       "    </tr>\n",
       "    <tr>\n",
       "      <th>2</th>\n",
       "      <td>3.500</td>\n",
       "      <td>-0.000279</td>\n",
       "      <td>-0.732462</td>\n",
       "    </tr>\n",
       "    <tr>\n",
       "      <th>5</th>\n",
       "      <td>3.750</td>\n",
       "      <td>-0.000441</td>\n",
       "      <td>-1.157373</td>\n",
       "    </tr>\n",
       "    <tr>\n",
       "      <th>6</th>\n",
       "      <td>3.775</td>\n",
       "      <td>-0.000442</td>\n",
       "      <td>-1.160130</td>\n",
       "    </tr>\n",
       "    <tr>\n",
       "      <th>7</th>\n",
       "      <td>3.800</td>\n",
       "      <td>-0.000441</td>\n",
       "      <td>-1.158686</td>\n",
       "    </tr>\n",
       "    <tr>\n",
       "      <th>8</th>\n",
       "      <td>3.850</td>\n",
       "      <td>-0.000436</td>\n",
       "      <td>-1.145269</td>\n",
       "    </tr>\n",
       "    <tr>\n",
       "      <th>10</th>\n",
       "      <td>4.000</td>\n",
       "      <td>-0.000400</td>\n",
       "      <td>-1.049150</td>\n",
       "    </tr>\n",
       "    <tr>\n",
       "      <th>11</th>\n",
       "      <td>4.250</td>\n",
       "      <td>-0.000313</td>\n",
       "      <td>-0.822097</td>\n",
       "    </tr>\n",
       "    <tr>\n",
       "      <th>12</th>\n",
       "      <td>4.500</td>\n",
       "      <td>-0.000232</td>\n",
       "      <td>-0.609904</td>\n",
       "    </tr>\n",
       "    <tr>\n",
       "      <th>13</th>\n",
       "      <td>5.000</td>\n",
       "      <td>-0.000123</td>\n",
       "      <td>-0.322831</td>\n",
       "    </tr>\n",
       "    <tr>\n",
       "      <th>15</th>\n",
       "      <td>6.000</td>\n",
       "      <td>-0.000038</td>\n",
       "      <td>-0.099165</td>\n",
       "    </tr>\n",
       "    <tr>\n",
       "      <th>16</th>\n",
       "      <td>7.000</td>\n",
       "      <td>-0.000014</td>\n",
       "      <td>-0.036836</td>\n",
       "    </tr>\n",
       "  </tbody>\n",
       "</table>\n",
       "</div>"
      ],
      "text/plain": [
       "    R (Å)  $V_{QM}(r)$ (Hartree)  $V_{QM}(r)$ (kJ/mol)\n",
       "0   3.000               0.003055              8.020850\n",
       "1   3.250               0.000518              1.360298\n",
       "2   3.500              -0.000279             -0.732462\n",
       "5   3.750              -0.000441             -1.157373\n",
       "6   3.775              -0.000442             -1.160130\n",
       "7   3.800              -0.000441             -1.158686\n",
       "8   3.850              -0.000436             -1.145269\n",
       "10  4.000              -0.000400             -1.049150\n",
       "11  4.250              -0.000313             -0.822097\n",
       "12  4.500              -0.000232             -0.609904\n",
       "13  5.000              -0.000123             -0.322831\n",
       "15  6.000              -0.000038             -0.099165\n",
       "16  7.000              -0.000014             -0.036836"
      ]
     },
     "execution_count": 16,
     "metadata": {},
     "output_type": "execute_result"
    }
   ],
   "source": [
    "dataset['$V_{QM}(r)$ (kJ/mol)'] = dataset['$V_{QM}(r)$ (Hartree)'] * 2625.5\n",
    "dataset"
   ]
  },
  {
   "cell_type": "markdown",
   "metadata": {},
   "source": [
    "---"
   ]
  },
  {
   "cell_type": "markdown",
   "metadata": {},
   "source": [
    "<h3> Task 2: </h3>\n",
    "\n",
    "In the task we have to calculate the **Lennard-Jones potential energy** [Eq. 1](#lje) and the <br /> **exponential potential energy** [Eq. 2](#eee) using the distances given in the $QM$ target data."
   ]
  },
  {
   "cell_type": "markdown",
   "metadata": {},
   "source": [
    "<center> These specific Argon atom parameters have been provided in the assignment paper: </center>"
   ]
  },
  {
   "cell_type": "markdown",
   "metadata": {},
   "source": [
    "<center>\n",
    "\n",
    "| $Species$            | $\\epsilon (kJ/mol)$ | $\\sigma (Å)$ | $α$   |\n",
    "| ------------------ | -------------------- | ------------ | ----- |\n",
    "| $Ar_2$             | 1.178                | 3.75         | 13.18 |\n",
    "\n",
    "</center>"
   ]
  },
  {
   "cell_type": "markdown",
   "metadata": {},
   "source": [
    "We will assign these values in a separate code block so that we can use them later"
   ]
  },
  {
   "cell_type": "code",
   "execution_count": 17,
   "metadata": {},
   "outputs": [],
   "source": [
    "epsilon = 1.178 # kJ/mol\n",
    "sigma = 3.75 #Å\n",
    "alpha = 13.18"
   ]
  },
  {
   "cell_type": "markdown",
   "metadata": {},
   "source": [
    "To calculate the non-bonded potential energy between two atoms, <br /> we use the Lennard-Jones equation [[1]](#1), which is represented by the following Python function:"
   ]
  },
  {
   "cell_type": "code",
   "execution_count": 18,
   "metadata": {},
   "outputs": [],
   "source": [
    "def lennard_jones_eq(r:float, epsilon:float, sigma:float):\n",
    "    return (4 * epsilon * (((sigma / r) ** 12) - ((sigma / r) ** 6)))"
   ]
  },
  {
   "cell_type": "markdown",
   "metadata": {},
   "source": [
    "Next, we apply the `lennard_jones_eq()` function to the **R (Å)** column in the dataframe, <br/> using pandas' built-in function `.apply()` [[3]](#3). Additionally, we add a new column titled: **$V_{LJ}(r)$ (kJ/mol) (kJ/mol)** to showcase the values."
   ]
  },
  {
   "cell_type": "code",
   "execution_count": 19,
   "metadata": {},
   "outputs": [
    {
     "data": {
      "text/html": [
       "<div>\n",
       "<style scoped>\n",
       "    .dataframe tbody tr th:only-of-type {\n",
       "        vertical-align: middle;\n",
       "    }\n",
       "\n",
       "    .dataframe tbody tr th {\n",
       "        vertical-align: top;\n",
       "    }\n",
       "\n",
       "    .dataframe thead th {\n",
       "        text-align: right;\n",
       "    }\n",
       "</style>\n",
       "<table border=\"1\" class=\"dataframe\">\n",
       "  <thead>\n",
       "    <tr style=\"text-align: right;\">\n",
       "      <th></th>\n",
       "      <th>R (Å)</th>\n",
       "      <th>$V_{QM}(r)$ (Hartree)</th>\n",
       "      <th>$V_{QM}(r)$ (kJ/mol)</th>\n",
       "      <th>$V_{LJ}(r)$ (kJ/mol)</th>\n",
       "    </tr>\n",
       "  </thead>\n",
       "  <tbody>\n",
       "    <tr>\n",
       "      <th>0</th>\n",
       "      <td>3.000</td>\n",
       "      <td>0.003055</td>\n",
       "      <td>8.020850</td>\n",
       "      <td>50.593771</td>\n",
       "    </tr>\n",
       "    <tr>\n",
       "      <th>1</th>\n",
       "      <td>3.250</td>\n",
       "      <td>0.000518</td>\n",
       "      <td>1.360298</td>\n",
       "      <td>15.121296</td>\n",
       "    </tr>\n",
       "    <tr>\n",
       "      <th>2</th>\n",
       "      <td>3.500</td>\n",
       "      <td>-0.000279</td>\n",
       "      <td>-0.732462</td>\n",
       "      <td>3.655327</td>\n",
       "    </tr>\n",
       "    <tr>\n",
       "      <th>5</th>\n",
       "      <td>3.750</td>\n",
       "      <td>-0.000441</td>\n",
       "      <td>-1.157373</td>\n",
       "      <td>0.000000</td>\n",
       "    </tr>\n",
       "    <tr>\n",
       "      <th>6</th>\n",
       "      <td>3.775</td>\n",
       "      <td>-0.000442</td>\n",
       "      <td>-1.160130</td>\n",
       "      <td>-0.176962</td>\n",
       "    </tr>\n",
       "    <tr>\n",
       "      <th>7</th>\n",
       "      <td>3.800</td>\n",
       "      <td>-0.000441</td>\n",
       "      <td>-1.158686</td>\n",
       "      <td>-0.332475</td>\n",
       "    </tr>\n",
       "    <tr>\n",
       "      <th>8</th>\n",
       "      <td>3.850</td>\n",
       "      <td>-0.000436</td>\n",
       "      <td>-1.145269</td>\n",
       "      <td>-0.587738</td>\n",
       "    </tr>\n",
       "    <tr>\n",
       "      <th>10</th>\n",
       "      <td>4.000</td>\n",
       "      <td>-0.000400</td>\n",
       "      <td>-1.049150</td>\n",
       "      <td>-1.027134</td>\n",
       "    </tr>\n",
       "    <tr>\n",
       "      <th>11</th>\n",
       "      <td>4.250</td>\n",
       "      <td>-0.000313</td>\n",
       "      <td>-0.822097</td>\n",
       "      <td>-1.174281</td>\n",
       "    </tr>\n",
       "    <tr>\n",
       "      <th>12</th>\n",
       "      <td>4.500</td>\n",
       "      <td>-0.000232</td>\n",
       "      <td>-0.609904</td>\n",
       "      <td>-1.049557</td>\n",
       "    </tr>\n",
       "    <tr>\n",
       "      <th>13</th>\n",
       "      <td>5.000</td>\n",
       "      <td>-0.000123</td>\n",
       "      <td>-0.322831</td>\n",
       "      <td>-0.689376</td>\n",
       "    </tr>\n",
       "    <tr>\n",
       "      <th>15</th>\n",
       "      <td>6.000</td>\n",
       "      <td>-0.000038</td>\n",
       "      <td>-0.099165</td>\n",
       "      <td>-0.264117</td>\n",
       "    </tr>\n",
       "    <tr>\n",
       "      <th>16</th>\n",
       "      <td>7.000</td>\n",
       "      <td>-0.000014</td>\n",
       "      <td>-0.036836</td>\n",
       "      <td>-0.108747</td>\n",
       "    </tr>\n",
       "  </tbody>\n",
       "</table>\n",
       "</div>"
      ],
      "text/plain": [
       "    R (Å)  $V_{QM}(r)$ (Hartree)  $V_{QM}(r)$ (kJ/mol)  $V_{LJ}(r)$ (kJ/mol)\n",
       "0   3.000               0.003055              8.020850             50.593771\n",
       "1   3.250               0.000518              1.360298             15.121296\n",
       "2   3.500              -0.000279             -0.732462              3.655327\n",
       "5   3.750              -0.000441             -1.157373              0.000000\n",
       "6   3.775              -0.000442             -1.160130             -0.176962\n",
       "7   3.800              -0.000441             -1.158686             -0.332475\n",
       "8   3.850              -0.000436             -1.145269             -0.587738\n",
       "10  4.000              -0.000400             -1.049150             -1.027134\n",
       "11  4.250              -0.000313             -0.822097             -1.174281\n",
       "12  4.500              -0.000232             -0.609904             -1.049557\n",
       "13  5.000              -0.000123             -0.322831             -0.689376\n",
       "15  6.000              -0.000038             -0.099165             -0.264117\n",
       "16  7.000              -0.000014             -0.036836             -0.108747"
      ]
     },
     "execution_count": 19,
     "metadata": {},
     "output_type": "execute_result"
    }
   ],
   "source": [
    "dataset['$V_{LJ}(r)$ (kJ/mol)'] = dataset.apply(lambda row: lennard_jones_eq(r=row['R (Å)'], \n",
    "epsilon=epsilon, sigma=sigma), axis=1)\n",
    "dataset"
   ]
  },
  {
   "cell_type": "markdown",
   "metadata": {},
   "source": [
    "To compute potential energy using the **extended exponential Equation from Yang et al** $V_{Exp}(r)$ [[4]](#4), we use the `.exp()` function of the numpy library in Python."
   ]
  },
  {
   "cell_type": "code",
   "execution_count": 20,
   "metadata": {},
   "outputs": [],
   "source": [
    "def expanded_exponential_eq(r, epsilon, sigma, alpha):\n",
    "    term1 = epsilon * (np.exp(alpha * (1 - r / sigma)))\n",
    "    term2 = ((r / sigma) ** 4 - 2 * (r / sigma) ** 2 + 3) * np.exp(0.5 * alpha * (1 - r / sigma))\n",
    "    return term1 - term2"
   ]
  },
  {
   "cell_type": "markdown",
   "metadata": {},
   "source": [
    "The function `expanded_exponential_eq` employs the specified formula."
   ]
  },
  {
   "cell_type": "markdown",
   "metadata": {},
   "source": [
    "Ultimately, the `expanded_exponential_eq()` function is applied to the r (Å) column within the dataframe using, `.apply()` [[3]](#3) again. <br />Additionally, we add a new column titled: **$V_{LJ}(r)$ (kJ/mol) (kJ/mol)** to showcase the values."
   ]
  },
  {
   "cell_type": "code",
   "execution_count": 21,
   "metadata": {},
   "outputs": [
    {
     "data": {
      "text/html": [
       "<div>\n",
       "<style scoped>\n",
       "    .dataframe tbody tr th:only-of-type {\n",
       "        vertical-align: middle;\n",
       "    }\n",
       "\n",
       "    .dataframe tbody tr th {\n",
       "        vertical-align: top;\n",
       "    }\n",
       "\n",
       "    .dataframe thead th {\n",
       "        text-align: right;\n",
       "    }\n",
       "</style>\n",
       "<table border=\"1\" class=\"dataframe\">\n",
       "  <thead>\n",
       "    <tr style=\"text-align: right;\">\n",
       "      <th></th>\n",
       "      <th>R (Å)</th>\n",
       "      <th>$V_{QM}(r)$ (Hartree)</th>\n",
       "      <th>$V_{QM}(r)$ (kJ/mol)</th>\n",
       "      <th>$V_{LJ}(r)$ (kJ/mol)</th>\n",
       "      <th>$V_{Exp}(r)$ (kJ/mol)</th>\n",
       "    </tr>\n",
       "  </thead>\n",
       "  <tbody>\n",
       "    <tr>\n",
       "      <th>0</th>\n",
       "      <td>3.000</td>\n",
       "      <td>0.003055</td>\n",
       "      <td>8.020850</td>\n",
       "      <td>50.593771</td>\n",
       "      <td>8.485593</td>\n",
       "    </tr>\n",
       "    <tr>\n",
       "      <th>1</th>\n",
       "      <td>3.250</td>\n",
       "      <td>0.000518</td>\n",
       "      <td>1.360298</td>\n",
       "      <td>15.121296</td>\n",
       "      <td>1.864296</td>\n",
       "    </tr>\n",
       "    <tr>\n",
       "      <th>2</th>\n",
       "      <td>3.500</td>\n",
       "      <td>-0.000279</td>\n",
       "      <td>-0.732462</td>\n",
       "      <td>3.655327</td>\n",
       "      <td>-0.292866</td>\n",
       "    </tr>\n",
       "    <tr>\n",
       "      <th>5</th>\n",
       "      <td>3.750</td>\n",
       "      <td>-0.000441</td>\n",
       "      <td>-1.157373</td>\n",
       "      <td>0.000000</td>\n",
       "      <td>-0.822000</td>\n",
       "    </tr>\n",
       "    <tr>\n",
       "      <th>6</th>\n",
       "      <td>3.775</td>\n",
       "      <td>-0.000442</td>\n",
       "      <td>-1.160130</td>\n",
       "      <td>-0.176962</td>\n",
       "      <td>-0.835297</td>\n",
       "    </tr>\n",
       "    <tr>\n",
       "      <th>7</th>\n",
       "      <td>3.800</td>\n",
       "      <td>-0.000441</td>\n",
       "      <td>-1.158686</td>\n",
       "      <td>-0.332475</td>\n",
       "      <td>-0.844271</td>\n",
       "    </tr>\n",
       "    <tr>\n",
       "      <th>8</th>\n",
       "      <td>3.850</td>\n",
       "      <td>-0.000436</td>\n",
       "      <td>-1.145269</td>\n",
       "      <td>-0.587738</td>\n",
       "      <td>-0.851227</td>\n",
       "    </tr>\n",
       "    <tr>\n",
       "      <th>10</th>\n",
       "      <td>4.000</td>\n",
       "      <td>-0.000400</td>\n",
       "      <td>-1.049150</td>\n",
       "      <td>-1.027134</td>\n",
       "      <td>-0.811899</td>\n",
       "    </tr>\n",
       "    <tr>\n",
       "      <th>11</th>\n",
       "      <td>4.250</td>\n",
       "      <td>-0.000313</td>\n",
       "      <td>-0.822097</td>\n",
       "      <td>-1.174281</td>\n",
       "      <td>-0.661067</td>\n",
       "    </tr>\n",
       "    <tr>\n",
       "      <th>12</th>\n",
       "      <td>4.500</td>\n",
       "      <td>-0.000232</td>\n",
       "      <td>-0.609904</td>\n",
       "      <td>-1.049557</td>\n",
       "      <td>-0.502761</td>\n",
       "    </tr>\n",
       "    <tr>\n",
       "      <th>13</th>\n",
       "      <td>5.000</td>\n",
       "      <td>-0.000123</td>\n",
       "      <td>-0.322831</td>\n",
       "      <td>-0.689376</td>\n",
       "      <td>-0.275040</td>\n",
       "    </tr>\n",
       "    <tr>\n",
       "      <th>15</th>\n",
       "      <td>6.000</td>\n",
       "      <td>-0.000038</td>\n",
       "      <td>-0.099165</td>\n",
       "      <td>-0.264117</td>\n",
       "      <td>-0.084594</td>\n",
       "    </tr>\n",
       "    <tr>\n",
       "      <th>16</th>\n",
       "      <td>7.000</td>\n",
       "      <td>-0.000014</td>\n",
       "      <td>-0.036836</td>\n",
       "      <td>-0.108747</td>\n",
       "      <td>-0.027024</td>\n",
       "    </tr>\n",
       "  </tbody>\n",
       "</table>\n",
       "</div>"
      ],
      "text/plain": [
       "    R (Å)  $V_{QM}(r)$ (Hartree)  $V_{QM}(r)$ (kJ/mol)  $V_{LJ}(r)$ (kJ/mol)  \\\n",
       "0   3.000               0.003055              8.020850             50.593771   \n",
       "1   3.250               0.000518              1.360298             15.121296   \n",
       "2   3.500              -0.000279             -0.732462              3.655327   \n",
       "5   3.750              -0.000441             -1.157373              0.000000   \n",
       "6   3.775              -0.000442             -1.160130             -0.176962   \n",
       "7   3.800              -0.000441             -1.158686             -0.332475   \n",
       "8   3.850              -0.000436             -1.145269             -0.587738   \n",
       "10  4.000              -0.000400             -1.049150             -1.027134   \n",
       "11  4.250              -0.000313             -0.822097             -1.174281   \n",
       "12  4.500              -0.000232             -0.609904             -1.049557   \n",
       "13  5.000              -0.000123             -0.322831             -0.689376   \n",
       "15  6.000              -0.000038             -0.099165             -0.264117   \n",
       "16  7.000              -0.000014             -0.036836             -0.108747   \n",
       "\n",
       "    $V_{Exp}(r)$ (kJ/mol)  \n",
       "0                8.485593  \n",
       "1                1.864296  \n",
       "2               -0.292866  \n",
       "5               -0.822000  \n",
       "6               -0.835297  \n",
       "7               -0.844271  \n",
       "8               -0.851227  \n",
       "10              -0.811899  \n",
       "11              -0.661067  \n",
       "12              -0.502761  \n",
       "13              -0.275040  \n",
       "15              -0.084594  \n",
       "16              -0.027024  "
      ]
     },
     "execution_count": 21,
     "metadata": {},
     "output_type": "execute_result"
    }
   ],
   "source": [
    "dataset['$V_{Exp}(r)$ (kJ/mol)'] = dataset.apply(lambda row: expanded_exponential_eq(r=row['R (Å)'],\n",
    "epsilon=epsilon, sigma=sigma, alpha=alpha), axis=1)\n",
    "dataset"
   ]
  },
  {
   "cell_type": "markdown",
   "metadata": {},
   "source": [
    "---"
   ]
  },
  {
   "cell_type": "markdown",
   "metadata": {},
   "source": [
    "<h3> Task 3: </h3>\n",
    "\n",
    "Let's make a graph with `.plot()` from the Pandas library [[3]](#3). We'll put distances **(R (Å))** on the x-axis and show three energies ($QM$ target, $V_{LJ}(r)$ using [Eq. 1](#lje), <br /> and  using $V_{Exp}(r)$ [Eq. 2](#eee)) on the y-axis. This will help us see how these energies shift with different particle distances."
   ]
  },
  {
   "cell_type": "code",
   "execution_count": 22,
   "metadata": {},
   "outputs": [
    {
     "data": {
      "image/png": "[encoded data removed]",
      "text/plain": [
       "<Figure size 640x480 with 1 Axes>"
      ]
     },
     "metadata": {},
     "output_type": "display_data"
    }
   ],
   "source": [
    "data_graph = pd.DataFrame(dataset)\n",
    "\n",
    "data_graph.plot(kind=\"line\", x='R (Å)', y=['$V_{QM}(r)$ (kJ/mol)', '$V_{LJ}(r)$ (kJ/mol)', '$V_{Exp}(r)$ (kJ/mol)'],\n",
    "                  xlabel='Distances (R (Å))', ylabel='Energies', grid=True);"
   ]
  },
  {
   "cell_type": "markdown",
   "metadata": {},
   "source": [
    "<h3> Task 4: </h3>\n",
    "\n",
    "We need to saving the distances, $V_{QM}(r)$ in (Hartree) and (kJ/mol), $V_{LJ}(r)$, $V_{Exp}(r)$ <br /> energies in (kJ/mol) to a **CSV-formatted file**. This file specifically holds this essential dataset."
   ]
  },
  {
   "cell_type": "markdown",
   "metadata": {},
   "source": [
    "Now, we use the `.concat()` function in `Pandas` [[3]](#3) to combine DataFrames along their columns (`axis=1`)."
   ]
  },
  {
   "cell_type": "code",
   "execution_count": 23,
   "metadata": {},
   "outputs": [],
   "source": [
    "dataset_save = pd.concat([dataset['R (Å)'], dataset['$V_{QM}(r)$ (Hartree)'], dataset['$V_{QM}(r)$ (kJ/mol)'], \n",
    "                             dataset['$V_{LJ}(r)$ (kJ/mol)'], \n",
    "                             dataset['$V_{Exp}(r)$ (kJ/mol)']], axis=1)"
   ]
  },
  {
   "cell_type": "markdown",
   "metadata": {},
   "source": [
    "Afterwards, we use the built-in `pandas` function `.to_csv()` [[3]](#3) to **store** the file in a `.csv` data format."
   ]
  },
  {
   "cell_type": "code",
   "execution_count": 24,
   "metadata": {},
   "outputs": [],
   "source": [
    "dataset_save.to_csv('../docs/QM_LJ_Exponential_Energies.csv')"
   ]
  }
 ],
 "metadata": {
  "kernelspec": {
   "display_name": "Python 3 (ipykernel)",
   "language": "python",
   "name": "python3"
  },
  "language_info": {
   "codemirror_mode": {
    "name": "ipython",
    "version": 3
   },
   "file_extension": ".py",
   "mimetype": "text/x-python",
   "name": "python",
   "nbconvert_exporter": "python",
   "pygments_lexer": "ipython3",
   "version": "3.11.5"
  }
 },
 "nbformat": 4,
 "nbformat_minor": 4
}
