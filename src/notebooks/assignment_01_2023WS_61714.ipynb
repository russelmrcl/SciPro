{
 "cells": [
  {
   "cell_type": "markdown",
   "metadata": {},
   "source": [
    "## Lennard-Jones Equation"
   ]
  },
  {
   "cell_type": "markdown",
   "metadata": {},
   "source": [
    "Author: **2023WS_61714**\n",
    "<br />\n",
    "<br />\n",
    "Date: October 7, 2023\n",
    "<br />\n",
    "\n",
    "---"
   ]
  },
  {
   "cell_type": "markdown",
   "metadata": {},
   "source": [
    "Goal: familiarize with Jupyter-notebooks\n",
    "<br />\n",
    "<br />\n",
    "Task 1: Calculating potential energy using the Lennard-Jones Equation:"
   ]
  },
  {
   "cell_type": "markdown",
   "metadata": {},
   "source": [
    "<div style=\"text-align: center\">\n",
    "\n",
    "### $V_{LJ}(r) = 4\\varepsilon \\ \\left[\\left(\\frac {\\sigma} {r}\\right)^{12} -\\left(\\frac {\\sigma} {r}\\right)^{6} \\right]$\n",
    "\n",
    "</div>"
   ]
  },
  {
   "cell_type": "markdown",
   "metadata": {},
   "source": [
    "**References**\n",
    "\n",
    "1. Lennard-Jones Equation: https://chem.libretexts.org/Bookshelves/Physical_and_Theoretical_Chemistry_Textbook_Maps/Supplemental_Modules_(Physical_and_Theoretical_Chemistry)/Physical_Properties_of_Matter/Atomic_and_Molecular_Properties/Intermolecular_Forces/Specific_Interactions/Lennard-Jones_Potential .\n",
    "2. Formula: https://www.unitjuggler.com/convert-energy-from-eV-to-J.html "
   ]
  },
  {
   "cell_type": "markdown",
   "metadata": {},
   "source": [
    "**Full Code:**"
   ]
  },
  {
   "cell_type": "code",
   "execution_count": 4,
   "metadata": {},
   "outputs": [
    {
     "name": "stdout",
     "output_type": "stream",
     "text": [
      "-8.855544754101534e-22\n"
     ]
    }
   ],
   "source": [
    "def lennard_jones_eq(r, epsilon, sigma):\n",
    "    term_one = (sigma / r) ** 12\n",
    "    term_two = (sigma / r) ** 6\n",
    "    return 4 * epsilon * (term_one - term_two)\n",
    "\n",
    "potential_energy = lennard_jones_eq(3.5, 0.0103, 3.40)\n",
    "print(potential_energy * 1.602176634e-19)"
   ]
  },
  {
   "cell_type": "markdown",
   "metadata": {},
   "source": [
    "**In this exercise, the variables have already been defined:**\n",
    "```python\n",
    "epsilon = 0.0103\n",
    "sigma = 3.40      \n",
    "r = 3.5      \n",
    "```"
   ]
  },
  {
   "cell_type": "markdown",
   "metadata": {},
   "source": [
    "**Calculating the potential energy in (eV) with the Lennard-Jones Equation**\n",
    "```python\n",
    "potential_energy = lennard_jones_eq(3.5, 0.0103, 3.40)\n",
    "```"
   ]
  },
  {
   "cell_type": "markdown",
   "metadata": {},
   "source": [
    "**Converting to International Unit for Energy (Joule)**\n",
    "```python\n",
    "print(potential_energy * 1.602176634e-19)\n",
    "```"
   ]
  },
  {
   "cell_type": "markdown",
   "metadata": {},
   "source": [
    "**result:** <p style=\"color: green\">-8.855544754101534e-22</p>"
   ]
  }
 ],
 "metadata": {
  "kernelspec": {
   "display_name": "Python 3 (ipykernel)",
   "language": "python",
   "name": "python3"
  },
  "language_info": {
   "codemirror_mode": {
    "name": "ipython",
    "version": 3
   },
   "file_extension": ".py",
   "mimetype": "text/x-python",
   "name": "python",
   "nbconvert_exporter": "python",
   "pygments_lexer": "ipython3",
   "version": "3.11.5"
  }
 },
 "nbformat": 4,
 "nbformat_minor": 4
}
